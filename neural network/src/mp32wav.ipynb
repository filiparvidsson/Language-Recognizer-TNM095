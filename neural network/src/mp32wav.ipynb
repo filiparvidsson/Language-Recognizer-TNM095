{
 "cells": [
  {
   "cell_type": "code",
   "execution_count": 3,
   "metadata": {},
   "outputs": [],
   "source": [
    "banana = 'banana.mp3'\n",
    "anana = banana.rstrip(\".mp3\")"
   ]
  }
 ],
 "metadata": {
  "kernelspec": {
   "display_name": "Python 3.9.13 64-bit (microsoft store)",
   "language": "python",
   "name": "python3"
  },
  "language_info": {
   "codemirror_mode": {
    "name": "ipython",
    "version": 3
   },
   "file_extension": ".py",
   "mimetype": "text/x-python",
   "name": "python",
   "nbconvert_exporter": "python",
   "pygments_lexer": "ipython3",
   "version": "3.9.13"
  },
  "orig_nbformat": 4,
  "vscode": {
   "interpreter": {
    "hash": "b555664543d899d91362b10d92bbda1e69ceefb0753018dd0baa274432222c84"
   }
  }
 },
 "nbformat": 4,
 "nbformat_minor": 2
}
