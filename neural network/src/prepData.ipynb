{
 "cells": [
  {
   "cell_type": "code",
   "execution_count": null,
   "metadata": {},
   "outputs": [],
   "source": [
    "train = 'train'\n",
    "test = 'test'\n",
    "\n",
    "eng = 'english'\n",
    "ger = 'german'\n",
    "swe = 'swedish'\n",
    "\n",
    "languages = [eng, ger, swe]\n",
    "categories = [train, test]\n",
    "\n",
    "original_dataset_paths = {}\n",
    "\n",
    "original_dataset_paths[eng] = 'D:/voiceData/cv-corpus-10.0-2022-07-04/en/' # TODO: Adapt this folder!\n",
    "original_dataset_paths[ger] = 'D:/voiceData/cv-corpus-10.0-2022-07-04/de/' # TODO: Adapt this folder!\n",
    "original_dataset_paths[swe] = 'D:/voiceData/cv-corpus-10.0-2022-07-04/sv/' # TODO: Adapt this folder!\n",
    "\n",
    "target_root_path = '../data/'\n",
    "\n",
    "num_files_to_take_for_each_language = 600 # 20000 is the maximum number of files for each language\n",
    "train_rate = 0.8  # Use 80 % of the data for training and the rest for testing"
   ]
  },
  {
   "cell_type": "code",
   "execution_count": null,
   "metadata": {},
   "outputs": [],
   "source": [
    "import os\n",
    "for lang in languages:\n",
    "    if not os.path.isdir(original_dataset_paths[lang]):\n",
    "        raise\n",
    "    for category in categories:\n",
    "        if not os.path.isdir(target_root_path + category + '/' + lang):\n",
    "            os.makedirs(target_root_path + category + '/' + lang)"
   ]
  },
  {
   "cell_type": "code",
   "execution_count": null,
   "metadata": {},
   "outputs": [],
   "source": [
    "import os\n",
    "\n",
    "for lang in languages:\n",
    "    if not os.path.isdir(original_dataset_paths[lang]):\n",
    "        raise\n",
    "    for category in categories:\n",
    "        if not os.path.isdir(target_root_path + category + '/' + lang):\n",
    "            raise\n",
    "\n",
    "for lang in languages:\n",
    "    if not os.path.isfile(original_dataset_paths[lang] + 'validated.tsv'):\n",
    "        raise\n",
    "    if not os.path.isdir(original_dataset_paths[lang] + 'clips'):\n",
    "        raise"
   ]
  },
  {
   "cell_type": "code",
   "execution_count": null,
   "metadata": {},
   "outputs": [],
   "source": [
    "import librosa as lr\n",
    "from glob import glob\n",
    "from random import shuffle\n",
    "from shutil import copy2\n",
    "import numpy as np\n",
    "import pandas as pd\n",
    "import warnings\n",
    "import soundfile as sf"
   ]
  },
  {
   "cell_type": "code",
   "execution_count": null,
   "metadata": {},
   "outputs": [],
   "source": []
  }
 ],
 "metadata": {
  "kernelspec": {
   "display_name": "Python 3.9.7 ('base')",
   "language": "python",
   "name": "python3"
  },
  "language_info": {
   "name": "python",
   "version": "3.9.7"
  },
  "orig_nbformat": 4,
  "vscode": {
   "interpreter": {
    "hash": "ffc3148520511411f1d34b36c9ccc7e8dac3d66633b7259514787140c98550e6"
   }
  }
 },
 "nbformat": 4,
 "nbformat_minor": 2
}
